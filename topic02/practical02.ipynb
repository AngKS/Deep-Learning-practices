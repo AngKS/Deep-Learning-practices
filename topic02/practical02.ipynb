{
 "cells": [
  {
   "cell_type": "code",
   "execution_count": 27,
   "metadata": {},
   "outputs": [],
   "source": [
    "import tensorflow as tf"
   ]
  },
  {
   "cell_type": "code",
   "execution_count": null,
   "metadata": {},
   "outputs": [],
   "source": [
    "model = tf.keras.Sequential([\n",
    "    tf.keras.layers.Dense(12, input_dim=8, activation='relu'),\n",
    "    tf.keras.layers.Dense(8, activation='relu'),\n",
    "    tf.keras.layers.Dense(1, activation='relu')\n",
    "])\n",
    "\n",
    "# Compile Model\n",
    "model.compile(\n",
    "    loss='binary_crossentropy',\n",
    "    optimizer='adam',\n",
    "    metrics=['accuracy']\n",
    ")\n",
    "model.summary()\n",
    "\n",
    "from keras.utils.vis_utils import plot_model\n",
    "plot_model(model, show_shapes=True)"
   ]
  },
  {
   "cell_type": "code",
   "execution_count": 14,
   "metadata": {},
   "outputs": [],
   "source": [
    "from ann_visualizer.visualize import ann_viz\n",
    "\n",
    "ann_viz(model, title=\"My model\")"
   ]
  },
  {
   "cell_type": "code",
   "execution_count": 9,
   "metadata": {},
   "outputs": [
    {
     "name": "stdout",
     "output_type": "stream",
     "text": [
      "Help on function ann_viz in module ann_visualizer.visualize:\n",
      "\n",
      "ann_viz(model, view=True, filename='network.gv', title='My Neural Network')\n",
      "    Vizualizez a Sequential model.\n",
      "    \n",
      "    # Arguments\n",
      "        model: A Keras model instance.\n",
      "    \n",
      "        view: whether to display the model after generation.\n",
      "    \n",
      "        filename: where to save the vizualization. (a .gv file)\n",
      "    \n",
      "        title: A title for the graph\n",
      "\n"
     ]
    }
   ],
   "source": [
    "help(ann_viz)"
   ]
  },
  {
   "cell_type": "code",
   "execution_count": 22,
   "metadata": {},
   "outputs": [
    {
     "name": "stdout",
     "output_type": "stream",
     "text": [
      "0 [0.13668063] [0.3796115]\n"
     ]
    }
   ],
   "source": [
    "import numpy as np\n",
    "tf.compat.v1.disable_eager_execution()\n",
    "\n",
    "x_data = np.random.rand(100).astype(np.float32)\n",
    "y_data = x_data * 0.1 + 0.3\n",
    "\n",
    "W = tf.Variable(tf.random.uniform([1], -1.0, 1.0))\n",
    "b = tf.Variable(tf.zeros([1]))\n",
    "\n",
    "y = W * x_data + b\n",
    "\n",
    "loss = tf.reduce_mean(tf.square(y - y_data))\n",
    "# optimizer = tf.keras.optimizers.SGD(0.5)\n",
    "optimizer = tf.compat.v1.train.GradientDescentOptimizer(0.5)\n",
    "train = optimizer.minimize(loss)\n",
    "\n",
    "init = tf.compat.v1.initialize_all_variables()\n",
    "\n",
    "sess = tf.compat.v1.Session()\n",
    "sess.run(init)\n",
    "\n",
    "for step in range(20):\n",
    "    sess.run(train)\n",
    "    if step % 20 == 0:\n",
    "        print(step, sess.run(W), sess.run(b))"
   ]
  },
  {
   "cell_type": "code",
   "execution_count": 39,
   "metadata": {},
   "outputs": [
    {
     "name": "stdout",
     "output_type": "stream",
     "text": [
      "INFO:tensorflow:Using default config.\n",
      "WARNING:tensorflow:Using temporary folder as model directory: C:\\Users\\p2004176\\AppData\\Local\\Temp\\tmpm5xzug_o\n",
      "INFO:tensorflow:Using config: {'_model_dir': 'C:\\\\Users\\\\p2004176\\\\AppData\\\\Local\\\\Temp\\\\tmpm5xzug_o', '_tf_random_seed': None, '_save_summary_steps': 100, '_save_checkpoints_steps': None, '_save_checkpoints_secs': 600, '_session_config': allow_soft_placement: true\n",
      "graph_options {\n",
      "  rewrite_options {\n",
      "    meta_optimizer_iterations: ONE\n",
      "  }\n",
      "}\n",
      ", '_keep_checkpoint_max': 5, '_keep_checkpoint_every_n_hours': 10000, '_log_step_count_steps': 100, '_train_distribute': None, '_device_fn': None, '_protocol': None, '_eval_distribute': None, '_experimental_distribute': None, '_experimental_max_worker_delay_secs': None, '_session_creation_timeout_secs': 7200, '_checkpoint_save_graph_def': True, '_service': None, '_cluster_spec': ClusterSpec({}), '_task_type': 'worker', '_task_id': 0, '_global_id_in_cluster': 0, '_master': '', '_evaluation_master': '', '_is_chief': True, '_num_ps_replicas': 0, '_num_worker_replicas': 1}\n",
      "INFO:tensorflow:Calling model_fn.\n",
      "INFO:tensorflow:Done calling model_fn.\n",
      "INFO:tensorflow:Create CheckpointSaverHook.\n",
      "INFO:tensorflow:Graph was finalized.\n",
      "INFO:tensorflow:Running local_init_op.\n",
      "INFO:tensorflow:Done running local_init_op.\n",
      "INFO:tensorflow:Calling checkpoint listeners before saving checkpoint 0...\n",
      "INFO:tensorflow:Saving checkpoints for 0 into C:\\Users\\p2004176\\AppData\\Local\\Temp\\tmpm5xzug_o\\model.ckpt.\n",
      "INFO:tensorflow:Calling checkpoint listeners after saving checkpoint 0...\n",
      "INFO:tensorflow:loss = 1.0620836, step = 0\n",
      "INFO:tensorflow:global_step/sec: 1125.28\n",
      "INFO:tensorflow:loss = 1.0347232, step = 100 (0.089 sec)\n",
      "INFO:tensorflow:global_step/sec: 1643.72\n",
      "INFO:tensorflow:loss = 1.0188947, step = 200 (0.061 sec)\n",
      "INFO:tensorflow:global_step/sec: 1699.45\n",
      "INFO:tensorflow:loss = 1.0058018, step = 300 (0.059 sec)\n",
      "INFO:tensorflow:global_step/sec: 1617.22\n",
      "INFO:tensorflow:loss = 0.9934104, step = 400 (0.062 sec)\n",
      "INFO:tensorflow:global_step/sec: 1644.61\n",
      "INFO:tensorflow:loss = 0.98071057, step = 500 (0.061 sec)\n",
      "INFO:tensorflow:global_step/sec: 1662.23\n",
      "INFO:tensorflow:loss = 0.96801186, step = 600 (0.060 sec)\n",
      "INFO:tensorflow:global_step/sec: 1720.87\n",
      "INFO:tensorflow:loss = 0.95549726, step = 700 (0.058 sec)\n",
      "INFO:tensorflow:global_step/sec: 1656.2\n",
      "INFO:tensorflow:loss = 0.9430378, step = 800 (0.060 sec)\n",
      "INFO:tensorflow:global_step/sec: 1724.33\n",
      "INFO:tensorflow:loss = 0.9312667, step = 900 (0.058 sec)\n",
      "INFO:tensorflow:global_step/sec: 1764.2\n",
      "INFO:tensorflow:loss = 0.9197661, step = 1000 (0.057 sec)\n",
      "INFO:tensorflow:global_step/sec: 1617.22\n",
      "INFO:tensorflow:loss = 0.9083202, step = 1100 (0.062 sec)\n",
      "INFO:tensorflow:global_step/sec: 1671.1\n",
      "INFO:tensorflow:loss = 0.89654464, step = 1200 (0.060 sec)\n",
      "INFO:tensorflow:global_step/sec: 1728.78\n",
      "INFO:tensorflow:loss = 0.88417673, step = 1300 (0.058 sec)\n",
      "INFO:tensorflow:global_step/sec: 1728.65\n",
      "INFO:tensorflow:loss = 0.8677017, step = 1400 (0.058 sec)\n",
      "INFO:tensorflow:global_step/sec: 1728.75\n",
      "INFO:tensorflow:loss = 0.8480032, step = 1500 (0.058 sec)\n",
      "INFO:tensorflow:global_step/sec: 1728.75\n",
      "INFO:tensorflow:loss = 0.8275059, step = 1600 (0.058 sec)\n",
      "INFO:tensorflow:global_step/sec: 1746.83\n",
      "INFO:tensorflow:loss = 0.8076396, step = 1700 (0.057 sec)\n",
      "INFO:tensorflow:global_step/sec: 1773.38\n",
      "INFO:tensorflow:loss = 0.7883968, step = 1800 (0.056 sec)\n",
      "INFO:tensorflow:global_step/sec: 1745.29\n",
      "INFO:tensorflow:loss = 0.7692773, step = 1900 (0.057 sec)\n",
      "INFO:tensorflow:global_step/sec: 1713.93\n",
      "INFO:tensorflow:loss = 0.7489481, step = 2000 (0.059 sec)\n",
      "INFO:tensorflow:global_step/sec: 1667.39\n",
      "INFO:tensorflow:loss = 0.72603583, step = 2100 (0.059 sec)\n",
      "INFO:tensorflow:global_step/sec: 1617.2\n",
      "INFO:tensorflow:loss = 0.70462084, step = 2200 (0.063 sec)\n",
      "INFO:tensorflow:global_step/sec: 1671.13\n",
      "INFO:tensorflow:loss = 0.68349236, step = 2300 (0.059 sec)\n",
      "INFO:tensorflow:global_step/sec: 1617.22\n",
      "INFO:tensorflow:loss = 0.66337335, step = 2400 (0.062 sec)\n",
      "INFO:tensorflow:global_step/sec: 1643.73\n",
      "INFO:tensorflow:loss = 0.6440684, step = 2500 (0.061 sec)\n",
      "INFO:tensorflow:global_step/sec: 1643.76\n",
      "INFO:tensorflow:loss = 0.6259927, step = 2600 (0.061 sec)\n",
      "INFO:tensorflow:global_step/sec: 1680.47\n",
      "INFO:tensorflow:loss = 0.6090537, step = 2700 (0.060 sec)\n",
      "INFO:tensorflow:global_step/sec: 1675.27\n",
      "INFO:tensorflow:loss = 0.59305507, step = 2800 (0.060 sec)\n",
      "INFO:tensorflow:global_step/sec: 1755.28\n",
      "INFO:tensorflow:loss = 0.5780843, step = 2900 (0.057 sec)\n",
      "INFO:tensorflow:Calling checkpoint listeners before saving checkpoint 3000...\n",
      "INFO:tensorflow:Saving checkpoints for 3000 into C:\\Users\\p2004176\\AppData\\Local\\Temp\\tmpm5xzug_o\\model.ckpt.\n",
      "INFO:tensorflow:Calling checkpoint listeners after saving checkpoint 3000...\n",
      "INFO:tensorflow:Loss for final step: 0.69681376.\n",
      "INFO:tensorflow:Calling model_fn.\n",
      "INFO:tensorflow:Done calling model_fn.\n",
      "INFO:tensorflow:Starting evaluation at 2021-10-26T16:26:54\n",
      "INFO:tensorflow:Graph was finalized.\n",
      "INFO:tensorflow:Restoring parameters from C:\\Users\\p2004176\\AppData\\Local\\Temp\\tmpm5xzug_o\\model.ckpt-3000\n",
      "INFO:tensorflow:Running local_init_op.\n",
      "INFO:tensorflow:Done running local_init_op.\n",
      "INFO:tensorflow:Inference Time : 0.35808s\n",
      "INFO:tensorflow:Finished evaluation at 2021-10-26-16:26:54\n",
      "INFO:tensorflow:Saving dict for global step 3000: accuracy = 0.9, average_loss = 0.6475574, global_step = 3000, loss = 0.6475574\n",
      "INFO:tensorflow:Saving 'checkpoint_path' summary for global step 3000: C:\\Users\\p2004176\\AppData\\Local\\Temp\\tmpm5xzug_o\\model.ckpt-3000\n",
      "Accuracy: 0.8999999761581421 \tLoss: 0.6475573778152466\n"
     ]
    }
   ],
   "source": [
    "from sklearn import datasets\n",
    "from sklearn.model_selection import train_test_split\n",
    "from sklearn.preprocessing import StandardScaler\n",
    "\n",
    "iris = datasets.load_iris()\n",
    "x, y = iris.data, iris.target\n",
    "\n",
    "x_train,x_test, y_train,  y_test = train_test_split(x, y, test_size=0.2, random_state=42)\n",
    "scaler = StandardScaler()\n",
    "x_train = scaler.fit_transform(x_train)\n",
    "x_test = scaler.fit_transform(x_test)\n",
    "\n",
    "feature_col = [\n",
    "    tf.feature_column.numeric_column(\"x\", shape=4)\n",
    "]\n",
    "classifier = tf.estimator.DNNClassifier(\n",
    "    feature_columns=feature_col,\n",
    "    hidden_units=[10, 20, 10],\n",
    "    n_classes=3\n",
    ")\n",
    "\n",
    "train_input_fn = tf.compat.v1.estimator.inputs.numpy_input_fn(x={\"x\" : x_train},\n",
    "                                                    y= y_train,\n",
    "                                                    batch_size=6,\n",
    "                                                    shuffle=False,\n",
    "                                                    num_epochs=150\n",
    ")\n",
    "classifier.train(input_fn=train_input_fn)\n",
    "\n",
    "test_input_fn = tf.compat.v1.estimator.inputs.numpy_input_fn(\n",
    "    x={\"x\" : x_test},\n",
    "    y=y_test,\n",
    "    batch_size=1,\n",
    "    shuffle=False\n",
    ")\n",
    "scores = classifier.evaluate(input_fn=test_input_fn)\n",
    "print(f\"Accuracy: {scores['accuracy']} \\tLoss: {scores['loss']}\")"
   ]
  },
  {
   "cell_type": "code",
   "execution_count": 26,
   "metadata": {},
   "outputs": [
    {
     "name": "stderr",
     "output_type": "stream",
     "text": [
      "WARNING: Package(s) not found: tensorflow\n"
     ]
    }
   ],
   "source": [
    "!pip show tensorflow"
   ]
  },
  {
   "cell_type": "code",
   "execution_count": 4,
   "metadata": {},
   "outputs": [],
   "source": [
    "import tensorflow as tf"
   ]
  },
  {
   "cell_type": "code",
   "execution_count": 5,
   "metadata": {},
   "outputs": [
    {
     "data": {
      "text/plain": [
       "[]"
      ]
     },
     "execution_count": 5,
     "metadata": {},
     "output_type": "execute_result"
    }
   ],
   "source": [
    "tf.config.list_physical_devices('GPU')"
   ]
  },
  {
   "cell_type": "code",
   "execution_count": 7,
   "metadata": {},
   "outputs": [
    {
     "data": {
      "text/plain": [
       "False"
      ]
     },
     "execution_count": 7,
     "metadata": {},
     "output_type": "execute_result"
    }
   ],
   "source": [
    "tf.test.is_gpu_available()"
   ]
  },
  {
   "cell_type": "code",
   "execution_count": 12,
   "metadata": {},
   "outputs": [],
   "source": [
    "model = tf.keras.Sequential([\n",
    "    tf.keras.layers.Dense(64, input_dim=8, activation='relu'),\n",
    "    tf.keras.layers.Dense(64, activation='relu'),\n",
    "    tf.keras.layers.Dense(10, activation='softmax')\n",
    "])\n",
    "model.compile(\n",
    "    optimizer='rmsprop',\n",
    "    loss= \"categorical_crossentropy\",\n",
    "    metrics=['accuracy']\n",
    ")\n"
   ]
  },
  {
   "cell_type": "code",
   "execution_count": null,
   "metadata": {},
   "outputs": [],
   "source": []
  }
 ],
 "metadata": {
  "interpreter": {
   "hash": "34d292d73500571d3290e2ac139ad9215a94efca6eb022aa577a09744b0d61ad"
  },
  "kernelspec": {
   "display_name": "Python 3.9.0 64-bit ('venv': conda)",
   "name": "python3"
  },
  "language_info": {
   "codemirror_mode": {
    "name": "ipython",
    "version": 3
   },
   "file_extension": ".py",
   "mimetype": "text/x-python",
   "name": "python",
   "nbconvert_exporter": "python",
   "pygments_lexer": "ipython3",
   "version": "3.9.0"
  },
  "orig_nbformat": 4
 },
 "nbformat": 4,
 "nbformat_minor": 2
}
