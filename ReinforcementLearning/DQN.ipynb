{
 "cells": [
  {
   "cell_type": "code",
   "execution_count": 6,
   "metadata": {},
   "outputs": [
    {
     "data": {
      "text/plain": [
       "array([ 0.00414558, -0.00122899, -0.00519184,  0.03136244])"
      ]
     },
     "execution_count": 6,
     "metadata": {},
     "output_type": "execute_result"
    }
   ],
   "source": [
    "import gym\n",
    "env = gym.make('CartPole-v0')\n",
    "env.reset()"
   ]
  },
  {
   "cell_type": "markdown",
   "metadata": {},
   "source": [
    "| Observation | Action | Reward | Done |\n",
    "| :--- | :--: | :--: | :--: |\n",
    "| ($x$, $v$, $\\theta$, $\\omega$) | {0, 1} | {0, 1} | {0, 1} |\n",
    "| $x$: position | 0: push to the left | 0: Game has Ended | 0: Game Continues |\n",
    "| $v$: Velocity of Cart | 1: push to the right | 1: Game continues | 1: Game Ends |\n",
    "| $\\theta$: Angle of Pole | | | |\n",
    "| $\\omega$: Angular Velocity of Pole | | | |\n"
   ]
  },
  {
   "cell_type": "code",
   "execution_count": 11,
   "metadata": {},
   "outputs": [
    {
     "name": "stdout",
     "output_type": "stream",
     "text": [
      "Current state: [ 0.04306793  0.9754105  -0.06106254 -1.45639471]\n",
      "Reward: 1.0\n",
      "Done: False\n",
      "Info: {}\n"
     ]
    }
   ],
   "source": [
    "'''\n",
    "Unpacking {state}:\n",
    "\n",
    "x: horizontal position of the cart\n",
    "v: velocity of the cart\n",
    "theta: angle of the pole with respect to the perpendicular direction of the track\n",
    "theta_dot(omega): angular velocity of the pole\n",
    "\n",
    "Hence, State = [x, v, theta, omega]\n",
    "\n",
    "'''\n",
    "\n",
    "state, reward, done, info = env.step(1)\n",
    "\n",
    "print(f\"Current state: {state}\")\n",
    "print(f\"Reward: {reward}\")\n",
    "print(f\"Done: {done}\")\n",
    "print(f\"Info: {info}\")"
   ]
  }
 ],
 "metadata": {
  "interpreter": {
   "hash": "d817ecc40216b7f0162e924e851aea10644fd94c62e64bd88718080ddb5aebae"
  },
  "kernelspec": {
   "display_name": "Python 3.8.12 64-bit ('DELE': conda)",
   "language": "python",
   "name": "python3"
  },
  "language_info": {
   "codemirror_mode": {
    "name": "ipython",
    "version": 3
   },
   "file_extension": ".py",
   "mimetype": "text/x-python",
   "name": "python",
   "nbconvert_exporter": "python",
   "pygments_lexer": "ipython3",
   "version": "3.8.12"
  },
  "orig_nbformat": 4
 },
 "nbformat": 4,
 "nbformat_minor": 2
}
