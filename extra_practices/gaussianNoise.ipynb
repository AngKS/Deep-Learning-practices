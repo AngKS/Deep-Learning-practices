{
 "cells": [
  {
   "cell_type": "code",
   "execution_count": null,
   "metadata": {},
   "outputs": [],
   "source": [
    "import tensroflow as tf\n",
    "\n",
    "(train_x, train_y), (test_x, test_y) = tf.keras.datasets.cifar10.load_data()\n",
    "(train2_x, train2_y), (test2_x, test2_y) = tf.keras.datasets.mnist.load_data()\n",
    "\n",
    "# show mnist and cifar images side by side\n",
    "import matplotlib.pyplot as plt\n",
    "\n",
    "# show 25 subplots of mnist and cifar together\n",
    "plt.figure(figsize=(10, 10))\n",
    "for i in range(25):\n",
    "    plt.subplot(5, 5, i + 1)\n",
    "    plt.xticks([])\n",
    "    plt.yticks([])\n",
    "    plt.grid(False)\n",
    "    plt.imshow(train_x[i], cmap=plt.cm.binary)\n",
    "    plt.subplot(5, 5, i + 2)\n",
    "    plt.xticks([])\n",
    "    plt.yticks([])\n",
    "    plt.grid(False)\n",
    "    plt.imshow(train2_x[i], cmap=plt.cm.binary)\n",
    "    \n",
    "    plt.xlabel(class_names[train_y[i]])\n",
    "\n"
   ]
  }
 ],
 "metadata": {
  "language_info": {
   "name": "python"
  },
  "orig_nbformat": 4
 },
 "nbformat": 4,
 "nbformat_minor": 2
}
