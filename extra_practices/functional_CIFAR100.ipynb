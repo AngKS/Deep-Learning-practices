{
 "cells": [
  {
   "cell_type": "markdown",
   "metadata": {},
   "source": [
    "# Learning Keras Functional API with CIFAR100 Classification\n",
    "\n",
    "I will be implementing a basic RESNET architecture to classify objects in the CIFAR-100 dataset"
   ]
  },
  {
   "cell_type": "code",
   "execution_count": 22,
   "metadata": {},
   "outputs": [],
   "source": [
    "# Load all relevant modules\n",
    "import tensorflow as tf\n",
    "import numpy as np\n",
    "import matplotlib.pyplot as plt\n",
    "import os\n",
    "import pickle\n",
    "import random\n",
    "plt.style.use('seaborn')"
   ]
  },
  {
   "cell_type": "code",
   "execution_count": 4,
   "metadata": {},
   "outputs": [
    {
     "name": "stdout",
     "output_type": "stream",
     "text": [
      "['snake', 'seal', 'mouse', 'bed', 'road', 'crab', 'cup', 'cockroach', 'worm', 'table']\n",
      "100\n"
     ]
    }
   ],
   "source": [
    "# Load dataset\n",
    "data_dir = \"../../Datasets/CIFAR100\"\n",
    "\n",
    "classes = os.listdir(data_dir + \"/TRAIN\")\n",
    "print(random.sample(classes, 10))\n",
    "print(len(classes))"
   ]
  },
  {
   "cell_type": "code",
   "execution_count": 51,
   "metadata": {},
   "outputs": [
    {
     "ename": "FileNotFoundError",
     "evalue": "[Errno 2] No such file or directory: 'train'",
     "output_type": "error",
     "traceback": [
      "\u001b[0;31m---------------------------------------------------------------------------\u001b[0m",
      "\u001b[0;31mFileNotFoundError\u001b[0m                         Traceback (most recent call last)",
      "\u001b[0;32m/var/folders/jr/017d8q8145z52wbhxmqqxxkc0000gn/T/ipykernel_61865/1794239930.py\u001b[0m in \u001b[0;36m<module>\u001b[0;34m\u001b[0m\n\u001b[1;32m      6\u001b[0m     \u001b[0;32mreturn\u001b[0m \u001b[0mdict\u001b[0m\u001b[0;34m\u001b[0m\u001b[0;34m\u001b[0m\u001b[0m\n\u001b[1;32m      7\u001b[0m \u001b[0;34m\u001b[0m\u001b[0m\n\u001b[0;32m----> 8\u001b[0;31m \u001b[0mtrainData\u001b[0m \u001b[0;34m=\u001b[0m \u001b[0munpickle\u001b[0m\u001b[0;34m(\u001b[0m\u001b[0;34m\"train\"\u001b[0m\u001b[0;34m)\u001b[0m\u001b[0;34m\u001b[0m\u001b[0;34m\u001b[0m\u001b[0m\n\u001b[0m",
      "\u001b[0;32m/var/folders/jr/017d8q8145z52wbhxmqqxxkc0000gn/T/ipykernel_61865/1794239930.py\u001b[0m in \u001b[0;36munpickle\u001b[0;34m(file)\u001b[0m\n\u001b[1;32m      2\u001b[0m \u001b[0;34m\u001b[0m\u001b[0m\n\u001b[1;32m      3\u001b[0m \u001b[0;32mdef\u001b[0m \u001b[0munpickle\u001b[0m\u001b[0;34m(\u001b[0m\u001b[0mfile\u001b[0m\u001b[0;34m)\u001b[0m\u001b[0;34m:\u001b[0m\u001b[0;34m\u001b[0m\u001b[0;34m\u001b[0m\u001b[0m\n\u001b[0;32m----> 4\u001b[0;31m     \u001b[0;32mwith\u001b[0m \u001b[0mopen\u001b[0m\u001b[0;34m(\u001b[0m\u001b[0mfile\u001b[0m\u001b[0;34m,\u001b[0m \u001b[0;34m'rb'\u001b[0m\u001b[0;34m)\u001b[0m \u001b[0;32mas\u001b[0m \u001b[0mfo\u001b[0m\u001b[0;34m:\u001b[0m\u001b[0;34m\u001b[0m\u001b[0;34m\u001b[0m\u001b[0m\n\u001b[0m\u001b[1;32m      5\u001b[0m         \u001b[0mdict\u001b[0m \u001b[0;34m=\u001b[0m \u001b[0mpickle\u001b[0m\u001b[0;34m.\u001b[0m\u001b[0mload\u001b[0m\u001b[0;34m(\u001b[0m\u001b[0mfo\u001b[0m\u001b[0;34m,\u001b[0m \u001b[0mencoding\u001b[0m\u001b[0;34m=\u001b[0m\u001b[0;34m'bytes'\u001b[0m\u001b[0;34m)\u001b[0m\u001b[0;34m\u001b[0m\u001b[0;34m\u001b[0m\u001b[0m\n\u001b[1;32m      6\u001b[0m     \u001b[0;32mreturn\u001b[0m \u001b[0mdict\u001b[0m\u001b[0;34m\u001b[0m\u001b[0;34m\u001b[0m\u001b[0m\n",
      "\u001b[0;31mFileNotFoundError\u001b[0m: [Errno 2] No such file or directory: 'train'"
     ]
    }
   ],
   "source": [
    "# Load dataset\n",
    "\n",
    "def unpickle(file):\n",
    "    with open(file, 'rb') as fo:\n",
    "        dict = pickle.load(fo, encoding='bytes')\n",
    "    return dict\n",
    "\n",
    "trainData = unpickle(\"train\")"
   ]
  },
  {
   "cell_type": "code",
   "execution_count": 17,
   "metadata": {},
   "outputs": [],
   "source": [
    "# function to generate 3 sample images of a random class\n",
    "def plot_sample_images(data_dir, classes, n_images):\n",
    "    # pick a random class\n",
    "    class_name = random.sample(classes, 1)[0]\n",
    "    # get all images of the class\n",
    "    images = os.listdir(data_dir + \"/TRAIN/\" + class_name)\n",
    "    # pick a random image\n",
    "    image_name = random.sample(images, n_images)\n",
    "    # plot the images\n",
    "    plt.figure(figsize=(10, 10))\n",
    "    for i in range(n_images):\n",
    "        plt.subplot(1, n_images, i+1)\n",
    "        plt.imshow(plt.imread(data_dir + \"/TRAIN/\" + class_name + \"/\" + image_name[i]))\n",
    "        plt.axis('off')\n",
    "    plt.suptitle(f\"Label: {class_name}\", fontsize=20)\n",
    "    plt.show()"
   ]
  },
  {
   "cell_type": "code",
   "execution_count": 18,
   "metadata": {},
   "outputs": [
    {
     "data": {
      "image/png": "[encoded data removed]",
      "text/plain": [
       "<Figure size 720x720 with 3 Axes>"
      ]
     },
     "metadata": {},
     "output_type": "display_data"
    }
   ],
   "source": [
    "plot_sample_images(data_dir, classes, 3)"
   ]
  },
  {
   "cell_type": "markdown",
   "metadata": {},
   "source": [
    "## Data Transformation & Augmentation"
   ]
  },
  {
   "cell_type": "code",
   "execution_count": 20,
   "metadata": {},
   "outputs": [],
   "source": [
    "# Normalize the data\n",
    "def normalize(x):\n",
    "    return x/255.0\n"
   ]
  },
  {
   "cell_type": "code",
   "execution_count": 27,
   "metadata": {},
   "outputs": [],
   "source": [
    "# Augmentation using imageDataGen\n",
    "\n",
    "dataGen = tf.keras.preprocessing.image.ImageDataGenerator(\n",
    "    preprocessing_function=normalize,\n",
    "    width_shift_range=0.1,\n",
    "    height_shift_range=0.1,\n",
    "    shear_range=0.1,\n",
    "    zoom_range=0.1,\n",
    "    horizontal_flip=True,\n",
    "    brightness_range=[0.5, 1.5],\n",
    "    fill_mode='nearest'\n",
    ")\n"
   ]
  },
  {
   "cell_type": "code",
   "execution_count": 28,
   "metadata": {},
   "outputs": [],
   "source": [
    "batch_size = 400"
   ]
  },
  {
   "cell_type": "code",
   "execution_count": 44,
   "metadata": {},
   "outputs": [],
   "source": [
    "# show augmentation\n",
    "def show_random_augment(generator, classes):\n",
    "    # pick a random class\n",
    "    class_name = random.sample(classes, 1)[0]\n",
    "    # get all images of the class\n",
    "    images = os.listdir(data_dir + \"/TRAIN/\" + class_name)\n",
    "\n",
    "    # pick a random image\n",
    "    image_name = random.sample(images, 1)[0]\n",
    "    # use the generator to augment the image\n",
    "    augmented = next(generator.flow(np.expand_dims(plt.imread(data_dir + \"/TRAIN/\" +class_name + \"/\" + image_name), axis=0), batch_size=1))\n",
    "    # plot the images\n",
    "    plt.figure(figsize=(10, 10))\n",
    "\n",
    "    plt.subplot(1, 2, 1)\n",
    "    plt.title(f\"Original\", fontsize=20)\n",
    "    plt.imshow(plt.imread(data_dir + \"/TRAIN/\" + class_name + \"/\" + image_name))\n",
    "    plt.axis('off')\n",
    "\n",
    "    plt.subplot(1, 2, 2)\n",
    "    plt.imshow(augmented[0])\n",
    "    plt.title(f\"Augmented\", fontsize=20)\n",
    "    plt.axis('off')\n",
    "\n",
    "    plt.suptitle(f\"Label: {class_name}\", fontsize=20)\n",
    "    plt.show()\n",
    "\n",
    "    \n"
   ]
  },
  {
   "cell_type": "code",
   "execution_count": 49,
   "metadata": {},
   "outputs": [
    {
     "data": {
      "image/png": "[encoded data removed]",
      "text/plain": [
       "<Figure size 720x720 with 2 Axes>"
      ]
     },
     "metadata": {},
     "output_type": "display_data"
    }
   ],
   "source": [
    "show_random_augment(dataGen, classes)"
   ]
  },
  {
   "cell_type": "code",
   "execution_count": 50,
   "metadata": {},
   "outputs": [
    {
     "data": {
      "text/plain": [
       "['streetcar',\n",
       " 'apple',\n",
       " 'palm_tree',\n",
       " 'man',\n",
       " 'forest',\n",
       " 'butterfly',\n",
       " 'lamp',\n",
       " 'wardrobe',\n",
       " 'pear',\n",
       " 'raccoon',\n",
       " 'crab',\n",
       " 'tractor',\n",
       " 'aquarium_fish',\n",
       " 'can',\n",
       " 'tank',\n",
       " 'snail',\n",
       " 'bed',\n",
       " 'cup',\n",
       " 'television',\n",
       " 'turtle',\n",
       " 'boy',\n",
       " 'mushroom',\n",
       " 'bee',\n",
       " 'fox',\n",
       " 'willow_tree',\n",
       " 'couch',\n",
       " 'dolphin',\n",
       " 'cattle',\n",
       " 'maple_tree',\n",
       " 'plain',\n",
       " 'bear',\n",
       " 'bridge',\n",
       " 'leopard',\n",
       " 'hamster',\n",
       " 'lawn_mower',\n",
       " 'lobster',\n",
       " 'camel',\n",
       " 'tiger',\n",
       " 'road',\n",
       " 'whale',\n",
       " 'motorcycle',\n",
       " 'crocodile',\n",
       " 'dinosaur',\n",
       " 'chair',\n",
       " 'bus',\n",
       " 'plate',\n",
       " 'otter',\n",
       " 'rose',\n",
       " 'seal',\n",
       " 'telephone',\n",
       " 'mouse',\n",
       " 'tulip',\n",
       " 'porcupine',\n",
       " 'beaver',\n",
       " 'wolf',\n",
       " 'lizard',\n",
       " 'flatfish',\n",
       " 'beetle',\n",
       " 'chimpanzee',\n",
       " 'poppy',\n",
       " 'bowl',\n",
       " 'table',\n",
       " 'shrew',\n",
       " 'skyscraper',\n",
       " 'kangaroo',\n",
       " 'cloud',\n",
       " 'girl',\n",
       " 'worm',\n",
       " 'train',\n",
       " 'house',\n",
       " 'caterpillar',\n",
       " 'spider',\n",
       " 'rabbit',\n",
       " 'cockroach',\n",
       " 'rocket',\n",
       " 'castle',\n",
       " 'bicycle',\n",
       " 'baby',\n",
       " 'mountain',\n",
       " 'sweet_pepper',\n",
       " 'orchid',\n",
       " 'sea',\n",
       " 'skunk',\n",
       " 'oak_tree',\n",
       " 'squirrel',\n",
       " 'ray',\n",
       " 'bottle',\n",
       " 'pickup_truck',\n",
       " 'keyboard',\n",
       " 'lion',\n",
       " 'clock',\n",
       " 'trout',\n",
       " 'orange',\n",
       " 'woman',\n",
       " 'shark',\n",
       " 'sunflower',\n",
       " 'pine_tree',\n",
       " 'snake',\n",
       " 'elephant',\n",
       " 'possum']"
      ]
     },
     "execution_count": 50,
     "metadata": {},
     "output_type": "execute_result"
    }
   ],
   "source": [
    "# train test split\n",
    "\n"
   ]
  },
  {
   "cell_type": "code",
   "execution_count": null,
   "metadata": {},
   "outputs": [],
   "source": [
    "# plot the first 3 images of the random class\n",
    "\n",
    "(X_train, y_train), (X_test, y_test) = tf.keras.datasets.cifar100.load_data(label_mode='fine')\n",
    "\n",
    "# generate a random class and plot first 5 images of that class\n",
    "class_ = random.randint(0, 99)\n",
    "\n",
    "for i in range(3):\n",
    "    plt.subplot(1, 3, i+1)\n",
    "    plt.imshow(X_train[class_][i])\n",
    "    plt.axis('off')\n",
    "    "
   ]
  }
 ],
 "metadata": {
  "interpreter": {
   "hash": "1540c76d30b1af6ad410dda6d61bebe77544e2f3c1a272e4083818637a64b89a"
  },
  "kernelspec": {
   "display_name": "Python 3.9.0 64-bit ('tf2.6': conda)",
   "language": "python",
   "name": "python3"
  },
  "language_info": {
   "codemirror_mode": {
    "name": "ipython",
    "version": 3
   },
   "file_extension": ".py",
   "mimetype": "text/x-python",
   "name": "python",
   "nbconvert_exporter": "python",
   "pygments_lexer": "ipython3",
   "version": "3.9.0"
  },
  "orig_nbformat": 4
 },
 "nbformat": 4,
 "nbformat_minor": 2
}
