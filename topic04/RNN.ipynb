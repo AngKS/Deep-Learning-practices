{
 "cells": [
  {
   "cell_type": "code",
   "execution_count": 1,
   "metadata": {},
   "outputs": [],
   "source": [
    "import numpy as np\n",
    "import tensorflow as tf\n",
    "from tensorflow.keras.datasets import imdb\n",
    "import matplotlib.pyplot as plt\n",
    "\n",
    "plt.style.use('ggplot')\n",
    "# Set the random seed\n",
    "np.random.seed(1)"
   ]
  },
  {
   "cell_type": "code",
   "execution_count": 2,
   "metadata": {},
   "outputs": [],
   "source": [
    "# load imdb data\n",
    "(X_train, y_train), (X_test, y_test) = imdb.load_data()"
   ]
  },
  {
   "cell_type": "code",
   "execution_count": 3,
   "metadata": {},
   "outputs": [
    {
     "name": "stdout",
     "output_type": "stream",
     "text": [
      "(50000,) (50000,)\n"
     ]
    }
   ],
   "source": [
    "X = np.concatenate((X_train, X_test), axis=0)\n",
    "y = np.concatenate((y_train, y_test), axis=0)\n",
    "print(X.shape, y.shape)"
   ]
  },
  {
   "cell_type": "code",
   "execution_count": 4,
   "metadata": {},
   "outputs": [
    {
     "name": "stdout",
     "output_type": "stream",
     "text": [
      "Classes [0 1]\n",
      "Number of words 88585\n",
      "Mean 234.75892 words 172.91149458735703\n"
     ]
    },
    {
     "data": {
      "image/png": "[encoded data removed]",
      "text/plain": [
       "<Figure size 432x288 with 1 Axes>"
      ]
     },
     "metadata": {},
     "output_type": "display_data"
    }
   ],
   "source": [
    "#EDA\n",
    "\n",
    "print(\"Classes\", np.unique(y))\n",
    "print(\"Number of words\", len(np.unique(np.hstack(X))))\n",
    "result = [len(x) for x in X]\n",
    "print(f\"Mean {np.mean(result)} words {np.std(result)}\")\n",
    "plt.boxplot(result)\n",
    "plt.show()"
   ]
  },
  {
   "cell_type": "code",
   "execution_count": 5,
   "metadata": {},
   "outputs": [
    {
     "name": "stdout",
     "output_type": "stream",
     "text": [
      "[1, 14, 22, 16, 43, 530, 973, 1622, 1385, 65, 458, 4468, 66, 3941, 4, 173, 36, 256, 5, 25, 100, 43, 838, 112, 50, 670, 22665, 9, 35, 480, 284, 5, 150, 4, 172, 112, 167, 21631, 336, 385, 39, 4, 172, 4536, 1111, 17, 546, 38, 13, 447, 4, 192, 50, 16, 6, 147, 2025, 19, 14, 22, 4, 1920, 4613, 469, 4, 22, 71, 87, 12, 16, 43, 530, 38, 76, 15, 13, 1247, 4, 22, 17, 515, 17, 12, 16, 626, 18, 19193, 5, 62, 386, 12, 8, 316, 8, 106, 5, 4, 2223, 5244, 16, 480, 66, 3785, 33, 4, 130, 12, 16, 38, 619, 5, 25, 124, 51, 36, 135, 48, 25, 1415, 33, 6, 22, 12, 215, 28, 77, 52, 5, 14, 407, 16, 82, 10311, 8, 4, 107, 117, 5952, 15, 256, 4, 31050, 7, 3766, 5, 723, 36, 71, 43, 530, 476, 26, 400, 317, 46, 7, 4, 12118, 1029, 13, 104, 88, 4, 381, 15, 297, 98, 32, 2071, 56, 26, 141, 6, 194, 7486, 18, 4, 226, 22, 21, 134, 476, 26, 480, 5, 144, 30, 5535, 18, 51, 36, 28, 224, 92, 25, 104, 4, 226, 65, 16, 38, 1334, 88, 12, 16, 283, 5, 16, 4472, 113, 103, 32, 15, 16, 5345, 19, 178, 32]\n"
     ]
    }
   ],
   "source": [
    "print(X_train[0])"
   ]
  },
  {
   "cell_type": "code",
   "execution_count": 6,
   "metadata": {},
   "outputs": [],
   "source": [
    "# padding/truncate the sewntences\n",
    "max_words = 500\n",
    "(X_train, y_train), (X_test, y_test) = imdb.load_data(num_words=10000)\n",
    "X_train = tf.keras.preprocessing.sequence.pad_sequences(X_train, maxlen=max_words)\n",
    "X_test = tf.keras.preprocessing.sequence.pad_sequences(X_test, maxlen=max_words)\n",
    "X = np.concatenate((X_train, X_test), axis=0)\n",
    "y = np.concatenate((y_train, y_test), axis=0)"
   ]
  },
  {
   "cell_type": "code",
   "execution_count": 7,
   "metadata": {},
   "outputs": [
    {
     "name": "stdout",
     "output_type": "stream",
     "text": [
      "Model: \"sequential\"\n",
      "_________________________________________________________________\n",
      "Layer (type)                 Output Shape              Param #   \n",
      "=================================================================\n",
      "embedding (Embedding)        (None, 500, 32)           160000    \n",
      "_________________________________________________________________\n",
      "flatten (Flatten)            (None, 16000)             0         \n",
      "_________________________________________________________________\n",
      "dense (Dense)                (None, 256)               4096256   \n",
      "_________________________________________________________________\n",
      "dense_1 (Dense)              (None, 1)                 257       \n",
      "=================================================================\n",
      "Total params: 4,256,513\n",
      "Trainable params: 4,256,513\n",
      "Non-trainable params: 0\n",
      "_________________________________________________________________\n"
     ]
    }
   ],
   "source": [
    "model = tf.keras.Sequential([\n",
    "    tf.keras.layers.Embedding(5000, 32, input_length=max_words),\n",
    "    tf.keras.layers.Flatten(),\n",
    "    tf.keras.layers.Dense(256, activation='relu'),\n",
    "    tf.keras.layers.Dense(1, activation='sigmoid')\n",
    "])\n",
    "model.compile(\n",
    "    optimizer='adam', \n",
    "    loss='binary_crossentropy', \n",
    "    metrics=['accuracy'])\n",
    "\n",
    "model.summary()"
   ]
  },
  {
   "cell_type": "code",
   "execution_count": 8,
   "metadata": {},
   "outputs": [
    {
     "name": "stdout",
     "output_type": "stream",
     "text": [
      "Epoch 1/10\n",
      "196/196 - 6s - loss: 0.4418 - accuracy: 0.7698 - val_loss: 0.2889 - val_accuracy: 0.8784\n",
      "Epoch 2/10\n",
      "196/196 - 1s - loss: 0.1599 - accuracy: 0.9399 - val_loss: 0.3378 - val_accuracy: 0.8620\n",
      "Epoch 3/10\n",
      "196/196 - 1s - loss: 0.0448 - accuracy: 0.9887 - val_loss: 0.4163 - val_accuracy: 0.8636\n",
      "Epoch 4/10\n",
      "196/196 - 1s - loss: 0.0084 - accuracy: 0.9987 - val_loss: 0.5150 - val_accuracy: 0.8624\n",
      "Epoch 5/10\n",
      "196/196 - 1s - loss: 0.0017 - accuracy: 1.0000 - val_loss: 0.5777 - val_accuracy: 0.8646\n",
      "Epoch 6/10\n",
      "196/196 - 1s - loss: 5.9657e-04 - accuracy: 1.0000 - val_loss: 0.6136 - val_accuracy: 0.8643\n",
      "Epoch 7/10\n",
      "196/196 - 1s - loss: 3.2922e-04 - accuracy: 1.0000 - val_loss: 0.6394 - val_accuracy: 0.8648\n",
      "Epoch 8/10\n",
      "196/196 - 1s - loss: 2.2150e-04 - accuracy: 1.0000 - val_loss: 0.6615 - val_accuracy: 0.8650\n",
      "Epoch 9/10\n",
      "196/196 - 1s - loss: 1.5874e-04 - accuracy: 1.0000 - val_loss: 0.6796 - val_accuracy: 0.8658\n",
      "Epoch 10/10\n",
      "196/196 - 1s - loss: 1.2045e-04 - accuracy: 1.0000 - val_loss: 0.6973 - val_accuracy: 0.8653\n"
     ]
    },
    {
     "data": {
      "text/plain": [
       "<keras.callbacks.History at 0x2382641b100>"
      ]
     },
     "execution_count": 8,
     "metadata": {},
     "output_type": "execute_result"
    }
   ],
   "source": [
    "model.fit(X_train, y_train, epochs=10, validation_data=(X_test, y_test), batch_size=128, verbose=2)"
   ]
  },
  {
   "cell_type": "code",
   "execution_count": 10,
   "metadata": {},
   "outputs": [
    {
     "name": "stdout",
     "output_type": "stream",
     "text": [
      "Model: \"sequential_2\"\n",
      "_________________________________________________________________\n",
      "Layer (type)                 Output Shape              Param #   \n",
      "=================================================================\n",
      "embedding_2 (Embedding)      (None, 500, 128)          640000    \n",
      "_________________________________________________________________\n",
      "lstm_1 (LSTM)                (None, 100)               91600     \n",
      "_________________________________________________________________\n",
      "dense_3 (Dense)              (None, 1)                 101       \n",
      "=================================================================\n",
      "Total params: 731,701\n",
      "Trainable params: 731,701\n",
      "Non-trainable params: 0\n",
      "_________________________________________________________________\n",
      "None\n",
      "Epoch 1/10\n",
      "391/391 [==============================] - 15s 36ms/step - loss: 0.4403 - accuracy: 0.7853 - val_loss: 0.3151 - val_accuracy: 0.8670\n",
      "Epoch 2/10\n",
      "391/391 [==============================] - 14s 35ms/step - loss: 0.3390 - accuracy: 0.8538 - val_loss: 0.3350 - val_accuracy: 0.8697\n",
      "Epoch 3/10\n",
      "391/391 [==============================] - 14s 35ms/step - loss: 0.2408 - accuracy: 0.9066 - val_loss: 0.3572 - val_accuracy: 0.8641\n",
      "Epoch 4/10\n",
      "391/391 [==============================] - 14s 35ms/step - loss: 0.2141 - accuracy: 0.9159 - val_loss: 0.3245 - val_accuracy: 0.8707\n",
      "Epoch 5/10\n",
      "391/391 [==============================] - 13s 35ms/step - loss: 0.1654 - accuracy: 0.9360 - val_loss: 0.3472 - val_accuracy: 0.8578\n",
      "Epoch 6/10\n",
      "391/391 [==============================] - 14s 35ms/step - loss: 0.1463 - accuracy: 0.9457 - val_loss: 0.3635 - val_accuracy: 0.8636\n",
      "Epoch 7/10\n",
      "391/391 [==============================] - 14s 35ms/step - loss: 0.1138 - accuracy: 0.9577 - val_loss: 0.4144 - val_accuracy: 0.8572\n",
      "Epoch 8/10\n",
      "391/391 [==============================] - 14s 35ms/step - loss: 0.1128 - accuracy: 0.9598 - val_loss: 0.3875 - val_accuracy: 0.8597\n",
      "Epoch 9/10\n",
      "391/391 [==============================] - 14s 35ms/step - loss: 0.1209 - accuracy: 0.9584 - val_loss: 0.4661 - val_accuracy: 0.8640\n",
      "Epoch 10/10\n",
      "391/391 [==============================] - 13s 34ms/step - loss: 0.0779 - accuracy: 0.9734 - val_loss: 0.5499 - val_accuracy: 0.8681\n",
      "Accuracy: 86.82%\n"
     ]
    }
   ],
   "source": [
    "from tensorflow.keras.models import Sequential\n",
    "from tensorflow.keras.layers import Dense\n",
    "from tensorflow.keras.layers import LSTM\n",
    "from tensorflow.keras.layers import Embedding\n",
    "from tensorflow.keras.preprocessing import sequence\n",
    "# fix random seed for reproducibility\n",
    "# numpy.random.seed(1)\n",
    "# load the dataset but only keep the top n words, zero the rest\n",
    "top_words = 5000\n",
    "(X_train, y_train), (X_test, y_test) = imdb.load_data(num_words=top_words)\n",
    "max_words = 500\n",
    "X_train = sequence.pad_sequences(X_train, maxlen=max_words)\n",
    "X_test = sequence.pad_sequences(X_test, maxlen=max_words)\n",
    "\n",
    "# create the model\n",
    "embedding_vector_length = 128\n",
    "model = Sequential()\n",
    "model.add(Embedding(top_words, embedding_vector_length, \n",
    "                    input_length=max_words))\n",
    "model.add(LSTM(100))\n",
    "model.add(Dense(1, activation='sigmoid'))\n",
    "model.compile(loss='binary_crossentropy', \n",
    "              optimizer='adam', metrics=['accuracy'])\n",
    "print(model.summary())\n",
    "\n",
    "# Fit the model\n",
    "model.fit(X_train, y_train, validation_data=(X_test, y_test), epochs=10, \n",
    "          batch_size=64)\n",
    "# Final evaluation of the model\n",
    "scores = model.evaluate(X_test, y_test, verbose=0)\n",
    "print(\"Accuracy: %.2f%%\" % (scores[1]*100))\n"
   ]
  },
  {
   "cell_type": "code",
   "execution_count": null,
   "metadata": {},
   "outputs": [],
   "source": []
  }
 ],
 "metadata": {
  "interpreter": {
   "hash": "d817ecc40216b7f0162e924e851aea10644fd94c62e64bd88718080ddb5aebae"
  },
  "kernelspec": {
   "display_name": "Python 3.8.12 64-bit ('DELE': conda)",
   "name": "python3"
  },
  "language_info": {
   "codemirror_mode": {
    "name": "ipython",
    "version": 3
   },
   "file_extension": ".py",
   "mimetype": "text/x-python",
   "name": "python",
   "nbconvert_exporter": "python",
   "pygments_lexer": "ipython3",
   "version": "3.8.12"
  },
  "orig_nbformat": 4
 },
 "nbformat": 4,
 "nbformat_minor": 2
}
